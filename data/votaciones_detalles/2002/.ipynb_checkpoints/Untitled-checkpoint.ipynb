{
 "cells": [
  {
   "cell_type": "code",
   "execution_count": 4,
   "id": "56308b3b",
   "metadata": {},
   "outputs": [
    {
     "name": "stdout",
     "output_type": "stream",
     "text": [
      "Archivo JSON integrado guardado en: ./integrated_voting_data.json\n"
     ]
    }
   ],
   "source": [
    "import os\n",
    "import json\n",
    "\n",
    "# Define the folder path where the JSON files are located\n",
    "folder_path = '/Users/ernestolaval/Documents/Github Repositories/datos abiertos cámara/data/votaciones_detalles/2002/'  # Reemplaza con la ruta de la carpeta que contiene los archivos JSON\n",
    "\n",
    "# Initialize an empty list to hold the integrated voting objects\n",
    "integrated_voting_data = []\n",
    "\n",
    "# Loop through all files in the folder\n",
    "for filename in os.listdir(folder_path):\n",
    "    print(filename)\n",
    "    if filename.startswith(\"detalleVotacion_\") and filename.endswith(\".json\"):\n",
    "        print(filename)\n",
    "        # Construct the full file path\n",
    "        file_path = os.path.join(folder_path, filename)\n",
    "        \n",
    "        # Open and read the JSON file\n",
    "        with open(file_path, 'r', encoding='utf-8') as json_file:\n",
    "            data = json.load(json_file)\n",
    "            # Append the 'Votacion' object to the integrated list\n",
    "            integrated_voting_data.append(data['Votacion'])\n",
    "\n",
    "# Define the output file path\n",
    "output_file = './integrated_voting_data.json'  # Cambia la ruta de salida según prefieras\n",
    "\n",
    "# Save the integrated data to a new JSON file\n",
    "with open(output_file, 'w', encoding='utf-8') as output_json_file:\n",
    "    json.dump(integrated_voting_data, output_json_file, ensure_ascii=False, indent=4)\n",
    "\n",
    "print(f\"Archivo JSON integrado guardado en: {output_file}\")\n"
   ]
  },
  {
   "cell_type": "code",
   "execution_count": null,
   "id": "c09cf2ff",
   "metadata": {},
   "outputs": [],
   "source": []
  },
  {
   "cell_type": "code",
   "execution_count": null,
   "id": "d4b70abf",
   "metadata": {},
   "outputs": [],
   "source": []
  }
 ],
 "metadata": {
  "kernelspec": {
   "display_name": "Python 3 (ipykernel)",
   "language": "python",
   "name": "python3"
  },
  "language_info": {
   "codemirror_mode": {
    "name": "ipython",
    "version": 3
   },
   "file_extension": ".py",
   "mimetype": "text/x-python",
   "name": "python",
   "nbconvert_exporter": "python",
   "pygments_lexer": "ipython3",
   "version": "3.11.7"
  }
 },
 "nbformat": 4,
 "nbformat_minor": 5
}
